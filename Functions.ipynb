{
 "cells": [
  {
   "cell_type": "markdown",
   "id": "headed-murder",
   "metadata": {},
   "source": [
    "# Definition"
   ]
  },
  {
   "cell_type": "markdown",
   "id": "supreme-model",
   "metadata": {},
   "source": [
    "## A function is an object!\n",
    "\n",
    "Remember that everything is an object in Python and functions are no exception. This has benefits, some of which will be dicussed later, but does create the possibility for subtle bugs in your code. For example, in Matlab the expression \n",
    "```OCTAVE\n",
    "y = sum();\n",
    "```\n",
    "would cause an error, however this is not the case in Python."
   ]
  },
  {
   "cell_type": "code",
   "execution_count": 1,
   "id": "removed-greece",
   "metadata": {},
   "outputs": [
    {
     "data": {
      "text/plain": [
       "builtin_function_or_method"
      ]
     },
     "execution_count": 1,
     "metadata": {},
     "output_type": "execute_result"
    }
   ],
   "source": [
    "y = sum\n",
    "type(y)"
   ]
  },
  {
   "cell_type": "markdown",
   "id": "weekly-optimization",
   "metadata": {},
   "source": [
    "This error has occurred to me most often with methods that can take zero arguments."
   ]
  },
  {
   "cell_type": "markdown",
   "id": "informal-lewis",
   "metadata": {},
   "source": [
    "# Return Values\n",
    "\n"
   ]
  },
  {
   "cell_type": "code",
   "execution_count": null,
   "id": "vietnamese-strengthening",
   "metadata": {},
   "outputs": [],
   "source": []
  },
  {
   "cell_type": "markdown",
   "id": "acting-castle",
   "metadata": {},
   "source": [
    "### To return more than one value, use a tuple"
   ]
  },
  {
   "cell_type": "code",
   "execution_count": 2,
   "id": "likely-intermediate",
   "metadata": {
    "scrolled": true
   },
   "outputs": [
    {
     "name": "stdout",
     "output_type": "stream",
     "text": [
      "Sum is 7, Difference is -1\n"
     ]
    }
   ],
   "source": [
    "def sum_and_diff(first_val, second_val):\n",
    "    return(first_val + second_val,\n",
    "           first_val - second_val)\n",
    "\n",
    "sum_val, diff_val = sum_and_diff(3,4)\n",
    "print(f'Sum is {sum_val}, Difference is {diff_val}')"
   ]
  },
  {
   "cell_type": "markdown",
   "id": "central-mounting",
   "metadata": {},
   "source": [
    "### Good Python practice is to not create variables just to return them"
   ]
  },
  {
   "cell_type": "code",
   "execution_count": 3,
   "id": "elegant-elements",
   "metadata": {},
   "outputs": [
    {
     "name": "stdout",
     "output_type": "stream",
     "text": [
      "5\n",
      "5\n"
     ]
    }
   ],
   "source": [
    "def bad_function(first_val, second_val):\n",
    "    sum = 0\n",
    "    sum = first_val + second_val\n",
    "    return sum\n",
    "\n",
    "def good_function(first_val, second_val):\n",
    "    return first_val + second_val\n",
    "\n",
    "print(bad_function(2,3))\n",
    "print(good_function(2,3))"
   ]
  },
  {
   "cell_type": "markdown",
   "id": "solved-essex",
   "metadata": {},
   "source": [
    "# Variable Scope\n",
    "In Python functions can access variables of global scope, the variables defined in the main program."
   ]
  },
  {
   "cell_type": "code",
   "execution_count": 4,
   "id": "young-tuition",
   "metadata": {},
   "outputs": [
    {
     "name": "stdout",
     "output_type": "stream",
     "text": [
      "9\n"
     ]
    }
   ],
   "source": [
    "def print_cur_val():\n",
    "    print(cur_val)\n",
    "    \n",
    "cur_val = 9;\n",
    "print_cur_val()"
   ]
  },
  {
   "cell_type": "markdown",
   "id": "olive-smell",
   "metadata": {},
   "source": [
    "\n",
    "Functions can not modify global scope variables however. The code below causes an error.\n"
   ]
  },
  {
   "cell_type": "code",
   "execution_count": 5,
   "id": "excited-mexican",
   "metadata": {},
   "outputs": [
    {
     "ename": "UnboundLocalError",
     "evalue": "local variable 'cur_val' referenced before assignment",
     "output_type": "error",
     "traceback": [
      "\u001b[1;31m---------------------------------------------------------------------------\u001b[0m",
      "\u001b[1;31mUnboundLocalError\u001b[0m                         Traceback (most recent call last)",
      "\u001b[1;32m<ipython-input-5-96bcdf7a515e>\u001b[0m in \u001b[0;36m<module>\u001b[1;34m\u001b[0m\n\u001b[0;32m      4\u001b[0m \u001b[1;33m\u001b[0m\u001b[0m\n\u001b[0;32m      5\u001b[0m \u001b[0mcur_val\u001b[0m \u001b[1;33m=\u001b[0m \u001b[1;36m9\u001b[0m\u001b[1;33m;\u001b[0m\u001b[1;33m\u001b[0m\u001b[1;33m\u001b[0m\u001b[0m\n\u001b[1;32m----> 6\u001b[1;33m \u001b[0mprint_cur_val\u001b[0m\u001b[1;33m(\u001b[0m\u001b[1;33m)\u001b[0m\u001b[1;33m\u001b[0m\u001b[1;33m\u001b[0m\u001b[0m\n\u001b[0m",
      "\u001b[1;32m<ipython-input-5-96bcdf7a515e>\u001b[0m in \u001b[0;36mprint_cur_val\u001b[1;34m()\u001b[0m\n\u001b[0;32m      1\u001b[0m \u001b[1;32mdef\u001b[0m \u001b[0mprint_cur_val\u001b[0m\u001b[1;33m(\u001b[0m\u001b[1;33m)\u001b[0m\u001b[1;33m:\u001b[0m\u001b[1;33m\u001b[0m\u001b[1;33m\u001b[0m\u001b[0m\n\u001b[1;32m----> 2\u001b[1;33m     \u001b[0mcur_val\u001b[0m \u001b[1;33m+=\u001b[0m \u001b[1;36m2\u001b[0m\u001b[1;33m\u001b[0m\u001b[1;33m\u001b[0m\u001b[0m\n\u001b[0m\u001b[0;32m      3\u001b[0m     \u001b[0mprint\u001b[0m\u001b[1;33m(\u001b[0m\u001b[0mcur_val\u001b[0m\u001b[1;33m)\u001b[0m\u001b[1;33m\u001b[0m\u001b[1;33m\u001b[0m\u001b[0m\n\u001b[0;32m      4\u001b[0m \u001b[1;33m\u001b[0m\u001b[0m\n\u001b[0;32m      5\u001b[0m \u001b[0mcur_val\u001b[0m \u001b[1;33m=\u001b[0m \u001b[1;36m9\u001b[0m\u001b[1;33m;\u001b[0m\u001b[1;33m\u001b[0m\u001b[1;33m\u001b[0m\u001b[0m\n",
      "\u001b[1;31mUnboundLocalError\u001b[0m: local variable 'cur_val' referenced before assignment"
     ]
    }
   ],
   "source": [
    "def print_cur_val():\n",
    "    cur_val += 2\n",
    "    print(cur_val)\n",
    "    \n",
    "cur_val = 9;\n",
    "print_cur_val()"
   ]
  },
  {
   "cell_type": "markdown",
   "id": "minor-motorcycle",
   "metadata": {},
   "source": [
    "\n",
    "the above error occurs because if a variable that has the same name a variable with global scope is modified in a function, Python assumes the variable is a local variable.\n",
    "\n"
   ]
  },
  {
   "cell_type": "code",
   "execution_count": null,
   "id": "juvenile-albania",
   "metadata": {},
   "outputs": [],
   "source": [
    "def print_cur_val():\n",
    "    cur_val = 2\n",
    "    print(f'cur_val in local scope = {cur_val}')\n",
    "    \n",
    "cur_val = 9   # variable in global scope\n",
    "print(f'cur_val in global scope = {cur_val}')\n",
    "print_cur_val()"
   ]
  },
  {
   "cell_type": "markdown",
   "id": "secure-headquarters",
   "metadata": {},
   "source": [
    "\n",
    "\n",
    "\n",
    "# Static Variables\n",
    "\n",
    "Python has no specific keyword for creating static variables, variables that are created once and remain intact during the length of the program. However, there are several ways of creating the equivalent of static variables. The first two are probably more familiar to most Matlab users.\n",
    "\n"
   ]
  },
  {
   "cell_type": "markdown",
   "id": "charming-stage",
   "metadata": {},
   "source": [
    "The first method uses hasattr(), which is an inbuilt utility function in Python. The function checks if an object has the given named attribute and returns true if present, or false if not. Remember, functions are objects in Python!\n",
    "\n",
    "The downside is that you have to use dot syntax for the static value, so a static variable named counter in Matlab has to be called fnc_name.counter in Python.\n",
    "\n",
    "Source: https://www.geeksforgeeks.org/python-hasattr-method/"
   ]
  },
  {
   "cell_type": "code",
   "execution_count": null,
   "id": "fitting-yukon",
   "metadata": {},
   "outputs": [],
   "source": [
    "def foo():\n",
    "    if not hasattr(foo,\"counter\"): foo.counter=0  # From  Erik Aronesty in https://stackoverflow.com/questions/279561/what-is-the-python-equivalent-of-static-variables-inside-a-function\n",
    "    foo.counter += 1\n",
    "    print(foo.counter)\n",
    "    \n",
    "foo()\n",
    "foo()"
   ]
  },
  {
   "cell_type": "markdown",
   "id": "human-nitrogen",
   "metadata": {},
   "source": [
    "The second method uses the __dict__ attribute, which is a dictionary or other mapping object used to store an object’s (writable) attributes.\n",
    "\n",
    "This method has the same dot syntax downside as the first method.\n",
    "\n",
    "Source: https://www.tutorialspoint.com/What-does-built-in-class-attribute-dict-do-in-Python"
   ]
  },
  {
   "cell_type": "code",
   "execution_count": null,
   "id": "brutal-saskatchewan",
   "metadata": {},
   "outputs": [],
   "source": [
    "def foo():\n",
    "    if \"counter\" not in foo.__dict__: foo.counter = 0 #  binaryLV in https://stackoverflow.com/questions/279561/what-is-the-python-equivalent-of-static-variables-inside-a-function\n",
    "    foo.counter += 1\n",
    "    print(foo.counter)\n",
    "    \n",
    "foo()\n",
    "foo()"
   ]
  },
  {
   "cell_type": "markdown",
   "id": "sticky-traffic",
   "metadata": {},
   "source": [
    "The last method involves creating a decorator, which is an advanced topic in Python. Some people might argue that this is the most Pythonic method for doing it however.\n",
    "\n",
    "The decorator that creates the static variables is shown below. "
   ]
  },
  {
   "cell_type": "code",
   "execution_count": null,
   "id": "characteristic-blood",
   "metadata": {},
   "outputs": [],
   "source": [
    "def static_vars(**kwargs):\n",
    "    def decorate(func):\n",
    "        for k in kwargs:\n",
    "            setattr(func, k, kwargs[k])\n",
    "        return func\n",
    "    return decorate\n",
    "\n"
   ]
  },
  {
   "cell_type": "markdown",
   "id": "practical-section",
   "metadata": {},
   "source": [
    "Once the decorator is defined we can define the function and place decorator function immediately before the function definition. This has the somewhat less than desirable feature that the static variable is defined outside of the function."
   ]
  },
  {
   "cell_type": "code",
   "execution_count": null,
   "id": "educated-runner",
   "metadata": {},
   "outputs": [],
   "source": [
    "@static_vars(counter=0) # line that defines the static variable\n",
    "def foo():\n",
    "    foo.counter += 1\n",
    "    print(foo.counter)\n",
    "    \n",
    "foo()\n",
    "foo()"
   ]
  },
  {
   "cell_type": "markdown",
   "id": "desperate-literacy",
   "metadata": {},
   "source": [
    "Which method you use is a matter of preference ultimately. I personally like defining static variables inside the function, especially if a function were to need several of them. I would suggest either the first or the last, since the second is less concise compared to the first."
   ]
  },
  {
   "cell_type": "code",
   "execution_count": null,
   "id": "preceding-indonesia",
   "metadata": {},
   "outputs": [],
   "source": [
    "## Keyword arguments\n",
    "Can require all arguments be named by including * as first argument\n",
    "\n",
    "\n"
   ]
  },
  {
   "cell_type": "code",
   "execution_count": null,
   "id": "opposed-physics",
   "metadata": {},
   "outputs": [],
   "source": [
    "# I need to change this definition\n",
    "def random_password(*, upper, lower, digits, length):"
   ]
  },
  {
   "cell_type": "markdown",
   "id": "graphic-forge",
   "metadata": {},
   "source": [
    "# Lambda functions"
   ]
  },
  {
   "cell_type": "markdown",
   "id": "sustained-pulse",
   "metadata": {},
   "source": []
  }
 ],
 "metadata": {
  "kernelspec": {
   "display_name": "Python 3",
   "language": "python",
   "name": "python3"
  },
  "language_info": {
   "codemirror_mode": {
    "name": "ipython",
    "version": 3
   },
   "file_extension": ".py",
   "mimetype": "text/x-python",
   "name": "python",
   "nbconvert_exporter": "python",
   "pygments_lexer": "ipython3",
   "version": "3.8.3"
  }
 },
 "nbformat": 4,
 "nbformat_minor": 5
}
